{
 "cells": [
  {
   "cell_type": "code",
   "execution_count": 16,
   "id": "0c9131a3",
   "metadata": {},
   "outputs": [],
   "source": [
    "import requests\n",
    "import bs4\n",
    "import pandas as pd"
   ]
  },
  {
   "cell_type": "code",
   "execution_count": 17,
   "id": "839ca5d2",
   "metadata": {},
   "outputs": [],
   "source": [
    "title=[]\n",
    "info = []"
   ]
  },
  {
   "cell_type": "code",
   "execution_count": 18,
   "id": "941d0bfd",
   "metadata": {},
   "outputs": [],
   "source": [
    "num = 1\n",
    "while num <30:\n",
    "    data = requests.get('https://www.bbc.co.uk/search?q=herb&page='+str(num))\n",
    "    soup = bs4.BeautifulSoup(data.text,\"html.parser\")\n",
    "    for i in soup.find_all('div',{'class':'ssrcss-1f3bvyz-Stack e1y4nx260'}):\n",
    "        title.append(i.find('a').text)\n",
    "        info.append(i.find('p',{'class':'ssrcss-1q0x1qg-Paragraph eq5iqo00'}).text)\n",
    "    num+=1\n",
    "        "
   ]
  },
  {
   "cell_type": "code",
   "execution_count": 19,
   "id": "a86bd1c6",
   "metadata": {},
   "outputs": [],
   "source": [
    "table = pd.DataFrame([title,info]).transpose()"
   ]
  },
  {
   "cell_type": "code",
   "execution_count": 20,
   "id": "44923115",
   "metadata": {},
   "outputs": [],
   "source": [
    "table.columns = ['title', 'info']\n",
    "    "
   ]
  },
  {
   "cell_type": "code",
   "execution_count": 15,
   "id": "293a0d28",
   "metadata": {},
   "outputs": [],
   "source": [
    "table.to_csv(\"herbnes.csv\")"
   ]
  }
 ],
 "metadata": {
  "kernelspec": {
   "display_name": "Python 3 (ipykernel)",
   "language": "python",
   "name": "python3"
  },
  "language_info": {
   "codemirror_mode": {
    "name": "ipython",
    "version": 3
   },
   "file_extension": ".py",
   "mimetype": "text/x-python",
   "name": "python",
   "nbconvert_exporter": "python",
   "pygments_lexer": "ipython3",
   "version": "3.10.6"
  }
 },
 "nbformat": 4,
 "nbformat_minor": 5
}
